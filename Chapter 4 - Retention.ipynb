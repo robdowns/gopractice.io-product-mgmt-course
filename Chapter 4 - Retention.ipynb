{
 "cells": [
  {
   "cell_type": "code",
   "execution_count": 30,
   "metadata": {},
   "outputs": [],
   "source": [
    "import pandas as pd\n",
    "import numpy as np\n",
    "%matplotlib inline"
   ]
  },
  {
   "cell_type": "code",
   "execution_count": 31,
   "metadata": {},
   "outputs": [],
   "source": [
    "#establish monthly retention rates for new users of hypothetical apps\n",
    "ret_app1 = [1,.05,.02, 0, 0, 0, 0,  0, 0,0]\n",
    "\n",
    "ret_app2 = [1, .7,.4,.2,.1, .03,.02, .01, .01, .01]\n",
    "\n",
    "ret_app3 = [1,.3, .25, .2,.2,.2, .2,.2, .2, .2]\n",
    "\n",
    "ret_app4 = [1, .8,.75, .72, .7,.7, .7, .7, .7,.7]\n",
    "\n"
   ]
  },
  {
   "cell_type": "code",
   "execution_count": 36,
   "metadata": {},
   "outputs": [],
   "source": [
    "#forecast MAU assuming a constant monthly inflow of new unique users\n",
    "def forecast_mau(ret_dict, monthly_users):\n",
    "    n_months = len(ret_dict)\n",
    "    \n",
    "    mau = np.repeat(0, n_months, axis = 0)\n",
    "    shift = 0\n",
    "    \n",
    "    for m in range(n_months):\n",
    "        ret_list = []\n",
    "        \n",
    "        for i in range(n_months - m):\n",
    "            ret_list.append(monthly_users * ret_dict[i])\n",
    "            \n",
    "        for e in range(len(ret_list)):\n",
    "            mau[shift + e] += ret_list[e]\n",
    "            \n",
    "        shift += 1\n",
    "    \n",
    "    return mau"
   ]
  },
  {
   "cell_type": "code",
   "execution_count": 37,
   "metadata": {},
   "outputs": [
    {
     "data": {
      "text/plain": [
       "<matplotlib.axes._subplots.AxesSubplot at 0x175abc584c8>"
      ]
     },
     "execution_count": 37,
     "metadata": {},
     "output_type": "execute_result"
    },
    {
     "data": {
      "image/png": "[encoded data removed]",
      "text/plain": [
       "<Figure size 432x288 with 1 Axes>"
      ]
     },
     "metadata": {
      "needs_background": "light"
     },
     "output_type": "display_data"
    }
   ],
   "source": [
    "df_mau = pd.DataFrame({\n",
    "    'Month': ['Jan', 'Feb', 'Mar', 'Apr', 'May', 'Jun', 'Jul', 'Aug', 'Sep', 'Oct'],\n",
    "    'App 1': forecast_mau(ret_app1, 1000),\n",
    "    'App 2': forecast_mau(ret_app2, 1000),\n",
    "    'App 3': forecast_mau(ret_app3, 1000),\n",
    "    'App 4': forecast_mau(ret_app4, 1000)\n",
    "})\n",
    "\n",
    "df_mau.plot(x = 'Month', y = ['App 1', 'App 2', 'App 3', 'App 4'])"
   ]
  },
  {
   "cell_type": "code",
   "execution_count": 38,
   "metadata": {},
   "outputs": [
    {
     "data": {
      "text/html": [
       "<div>\n",
       "<style scoped>\n",
       "    .dataframe tbody tr th:only-of-type {\n",
       "        vertical-align: middle;\n",
       "    }\n",
       "\n",
       "    .dataframe tbody tr th {\n",
       "        vertical-align: top;\n",
       "    }\n",
       "\n",
       "    .dataframe thead th {\n",
       "        text-align: right;\n",
       "    }\n",
       "</style>\n",
       "<table border=\"1\" class=\"dataframe\">\n",
       "  <thead>\n",
       "    <tr style=\"text-align: right;\">\n",
       "      <th></th>\n",
       "      <th>Month</th>\n",
       "      <th>App 1</th>\n",
       "      <th>App 2</th>\n",
       "      <th>App 3</th>\n",
       "      <th>App 4</th>\n",
       "    </tr>\n",
       "  </thead>\n",
       "  <tbody>\n",
       "    <tr>\n",
       "      <td>0</td>\n",
       "      <td>Jan</td>\n",
       "      <td>1000</td>\n",
       "      <td>1000</td>\n",
       "      <td>1000</td>\n",
       "      <td>1000</td>\n",
       "    </tr>\n",
       "    <tr>\n",
       "      <td>1</td>\n",
       "      <td>Feb</td>\n",
       "      <td>1050</td>\n",
       "      <td>1700</td>\n",
       "      <td>1300</td>\n",
       "      <td>1800</td>\n",
       "    </tr>\n",
       "    <tr>\n",
       "      <td>2</td>\n",
       "      <td>Mar</td>\n",
       "      <td>1070</td>\n",
       "      <td>2100</td>\n",
       "      <td>1550</td>\n",
       "      <td>2550</td>\n",
       "    </tr>\n",
       "    <tr>\n",
       "      <td>3</td>\n",
       "      <td>Apr</td>\n",
       "      <td>1070</td>\n",
       "      <td>2300</td>\n",
       "      <td>1750</td>\n",
       "      <td>3270</td>\n",
       "    </tr>\n",
       "    <tr>\n",
       "      <td>4</td>\n",
       "      <td>May</td>\n",
       "      <td>1070</td>\n",
       "      <td>2400</td>\n",
       "      <td>1950</td>\n",
       "      <td>3970</td>\n",
       "    </tr>\n",
       "    <tr>\n",
       "      <td>5</td>\n",
       "      <td>Jun</td>\n",
       "      <td>1070</td>\n",
       "      <td>2430</td>\n",
       "      <td>2150</td>\n",
       "      <td>4670</td>\n",
       "    </tr>\n",
       "    <tr>\n",
       "      <td>6</td>\n",
       "      <td>Jul</td>\n",
       "      <td>1070</td>\n",
       "      <td>2450</td>\n",
       "      <td>2350</td>\n",
       "      <td>5370</td>\n",
       "    </tr>\n",
       "    <tr>\n",
       "      <td>7</td>\n",
       "      <td>Aug</td>\n",
       "      <td>1070</td>\n",
       "      <td>2460</td>\n",
       "      <td>2550</td>\n",
       "      <td>6070</td>\n",
       "    </tr>\n",
       "    <tr>\n",
       "      <td>8</td>\n",
       "      <td>Sep</td>\n",
       "      <td>1070</td>\n",
       "      <td>2470</td>\n",
       "      <td>2750</td>\n",
       "      <td>6770</td>\n",
       "    </tr>\n",
       "    <tr>\n",
       "      <td>9</td>\n",
       "      <td>Oct</td>\n",
       "      <td>1070</td>\n",
       "      <td>2480</td>\n",
       "      <td>2950</td>\n",
       "      <td>7470</td>\n",
       "    </tr>\n",
       "  </tbody>\n",
       "</table>\n",
       "</div>"
      ],
      "text/plain": [
       "  Month  App 1  App 2  App 3  App 4\n",
       "0   Jan   1000   1000   1000   1000\n",
       "1   Feb   1050   1700   1300   1800\n",
       "2   Mar   1070   2100   1550   2550\n",
       "3   Apr   1070   2300   1750   3270\n",
       "4   May   1070   2400   1950   3970\n",
       "5   Jun   1070   2430   2150   4670\n",
       "6   Jul   1070   2450   2350   5370\n",
       "7   Aug   1070   2460   2550   6070\n",
       "8   Sep   1070   2470   2750   6770\n",
       "9   Oct   1070   2480   2950   7470"
      ]
     },
     "execution_count": 38,
     "metadata": {},
     "output_type": "execute_result"
    }
   ],
   "source": [
    "df_mau"
   ]
  }
 ],
 "metadata": {
  "kernelspec": {
   "display_name": "Python 3",
   "language": "python",
   "name": "python3"
  },
  "language_info": {
   "codemirror_mode": {
    "name": "ipython",
    "version": 3
   },
   "file_extension": ".py",
   "mimetype": "text/x-python",
   "name": "python",
   "nbconvert_exporter": "python",
   "pygments_lexer": "ipython3",
   "version": "3.7.4"
  }
 },
 "nbformat": 4,
 "nbformat_minor": 2
}
