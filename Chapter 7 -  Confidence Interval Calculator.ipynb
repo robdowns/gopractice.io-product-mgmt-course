{
 "cells": [
  {
   "cell_type": "code",
   "execution_count": 39,
   "metadata": {},
   "outputs": [],
   "source": [
    "import numpy as np\n",
    "import scipy.stats as st"
   ]
  },
  {
   "cell_type": "code",
   "execution_count": 49,
   "metadata": {},
   "outputs": [],
   "source": [
    "def get_confidence_interval(n_a, n_b, val_a, val_b, conf_level):\n",
    "    \n",
    "    conf_level = st.norm.ppf(conf_level)\n",
    "    \n",
    "    conf_int_lb = (val_b - val_a) - conf_level* np.sqrt((val_a*(1-val_a))/n_a + (val_b*(1-val_b))/n_b)\n",
    "\n",
    "    conf_int_ub = (val_b - val_a) + conf_level* np.sqrt((val_a*(1-val_a))/n_a + (val_b*(1-val_b))/n_b)\n",
    "\n",
    "    conf_int = (conf_int_lb, conf_int_ub)\n",
    "    \n",
    "    if (conf_int_lb < 0 and conf_int_ub > 0) or conf_int_lb == 0 or conf_int_ub == 0:\n",
    "        stat_sig = 'Not statistically significant'\n",
    "    else:\n",
    "        stat_sig = 'Statistically significant'\n",
    "\n",
    "    return conf_int, stat_sig\n"
   ]
  },
  {
   "cell_type": "code",
   "execution_count": 51,
   "metadata": {},
   "outputs": [
    {
     "data": {
      "text/plain": [
       "((-0.006830619362797462, 0.0026306193627974594),\n",
       " 'Not statistically significant')"
      ]
     },
     "execution_count": 51,
     "metadata": {},
     "output_type": "execute_result"
    }
   ],
   "source": [
    "get_confidence_interval(n_a = 6240, n_b = 15648, val_a = .0194, val_b = .0173, conf_level = .99)"
   ]
  }
 ],
 "metadata": {
  "kernelspec": {
   "display_name": "Python 3",
   "language": "python",
   "name": "python3"
  },
  "language_info": {
   "codemirror_mode": {
    "name": "ipython",
    "version": 3
   },
   "file_extension": ".py",
   "mimetype": "text/x-python",
   "name": "python",
   "nbconvert_exporter": "python",
   "pygments_lexer": "ipython3",
   "version": "3.7.4"
  }
 },
 "nbformat": 4,
 "nbformat_minor": 2
}
